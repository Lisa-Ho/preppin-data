{
 "cells": [
  {
   "cell_type": "markdown",
   "metadata": {},
   "source": [
    "# 2020: Week 6"
   ]
  },
  {
   "cell_type": "code",
   "execution_count": 1,
   "metadata": {},
   "outputs": [],
   "source": [
    "# Setup\n",
    "import pandas as pd\n",
    "import numpy as np\n",
    "import re\n",
    "from datetime import datetime"
   ]
  },
  {
   "cell_type": "code",
   "execution_count": 18,
   "metadata": {},
   "outputs": [],
   "source": [
    "# Load data\n",
    "rates = pd.read_excel(\".\\\\inputs\\\\PD 2020 Wk 6 Input.xlsx\", \"GBP to USD conversion rate\")\n",
    "sales = pd.read_excel(\".\\\\inputs\\\\PD 2020 Wk 6 Input.xlsx\", \"Sales\")"
   ]
  },
  {
   "cell_type": "markdown",
   "metadata": {},
   "source": [
    "## Explore "
   ]
  },
  {
   "cell_type": "code",
   "execution_count": 19,
   "metadata": {},
   "outputs": [
    {
     "name": "stdout",
     "output_type": "stream",
     "text": [
      "Rates\n",
      "shape: (153, 2)\n",
      "        Date British Pound to US Dollar\n",
      "0 2020-01-31         1 GBP = 1.3205 USD\n",
      "1 2020-01-30         1 GBP = 1.3086 USD\n",
      "2 2020-01-29         1 GBP = 1.3021 USD\n",
      "3 2020-01-28         1 GBP = 1.3023 USD\n",
      "4 2020-01-27         1 GBP = 1.3058 USD\n",
      "\n",
      "Sales\n",
      "shape: (31, 4)\n",
      "   Week  Year  Sales Value  US Stock sold (%)\n",
      "0    27  2019        53025                 42\n",
      "1    28  2019        49994                 44\n",
      "2    29  2019        55236                 29\n",
      "3    30  2019        76013                 33\n",
      "4    31  2019        25544                 40\n"
     ]
    }
   ],
   "source": [
    "print(\"Rates\")\n",
    "print(\"shape:\", rates.shape)\n",
    "print(rates.head())\n",
    "print()\n",
    "print(\"Sales\")\n",
    "print(\"shape:\", sales.shape)\n",
    "print(sales.head())"
   ]
  },
  {
   "cell_type": "markdown",
   "metadata": {},
   "source": [
    "## Clean"
   ]
  },
  {
   "cell_type": "code",
   "execution_count": 20,
   "metadata": {},
   "outputs": [],
   "source": [
    "#create week column\n",
    "rates[\"week\"] = rates[\"Date\"].dt.week\n",
    "\n",
    "#create year column\n",
    "rates[\"year\"] = rates[\"Date\"].dt.year\n",
    "rates.loc[(rates[\"Date\"].dt.month == 12) & (rates[\"week\"] == 1),\"year\"] = rates[\"year\"] + 1  #account for crossover weeks\n",
    "rates.loc[(rates[\"Date\"].dt.month == 1) & (rates[\"week\"] == 52),\"year\"] = rates[\"year\"] - 1 \n",
    "\n",
    "#extract conversion rates\n",
    "s = []\n",
    "for i in range(len(rates)):\n",
    "    m = re.search(r\"(?<== ).*?(?= USD)\", rates[\"British Pound to US Dollar\"][i])\n",
    "    if m:\n",
    "        r = float(m.group(0))\n",
    "    else:\n",
    "        r = np.nan\n",
    "    s.append(r)  \n",
    "rates[\"rate\"] = s\n",
    "\n",
    "#exlude Sat (5) and Sun (6)\n",
    "rates = rates.loc[(rates[\"Date\"].dt.weekday != 6) & (rates[\"Date\"].dt.weekday != 5)]\n",
    "\n",
    "#get min and max rates by week\n",
    "weekly_rates = rates.groupby([\"year\",\"week\"]).agg( {\"rate\" :[\"min\", \"max\"]})\n",
    "weekly_rates.columns = weekly_rates.columns.droplevel(0)\n",
    "weekly_rates = weekly_rates.reset_index()\n",
    "\n",
    "# create UK and US sales columns\n",
    "sales[\"US Sales Value (GBP)\"] = sales[\"US Stock sold (%)\"] / 100 * sales[\"Sales Value\"]\n",
    "sales[\"UK Sales Value (GBP)\"] = sales[\"Sales Value\"] - sales[\"US Sales Value (GBP)\"]"
   ]
  },
  {
   "cell_type": "code",
   "execution_count": 21,
   "metadata": {},
   "outputs": [],
   "source": [
    "# join tables\n",
    "df = sales.merge(weekly_rates, left_on=['Year', \"Week\"], right_on=['year', \"week\"])\n",
    "\n",
    "# get min and max US sales\n",
    "df[\"US Sales (USD) Best Case\"] = df[\"US Sales Value (GBP)\"] * df[\"max\"]\n",
    "df[\"US Sales (USD) Worst Case\"] = df[\"US Sales Value (GBP)\"] * df[\"min\"]\n",
    "df[\"US Sales Potential Variance\"] = df[\"US Sales (USD) Best Case\"] - df[\"US Sales (USD) Worst Case\"]\n",
    "\n",
    "# select columns to export\n",
    "df = df[[\"Week\", \"Year\",\"UK Sales Value (GBP)\", \"US Sales (USD) Best Case\",\"US Sales (USD) Worst Case\", \"US Sales Potential Variance\"]]\n",
    "\n",
    "#create week column\n",
    "df[\"week\"] = \"wk \" + df[\"Week\"].astype(str) + \" \" + df[\"Year\"].astype(str)\n",
    "\n",
    "#drop year and week, reorder\n",
    "df = df[[\"week\",\"UK Sales Value (GBP)\", \"US Sales (USD) Best Case\",\"US Sales (USD) Worst Case\", \"US Sales Potential Variance\" ]]"
   ]
  },
  {
   "cell_type": "code",
   "execution_count": 22,
   "metadata": {},
   "outputs": [
    {
     "data": {
      "text/html": [
       "<div>\n",
       "<style scoped>\n",
       "    .dataframe tbody tr th:only-of-type {\n",
       "        vertical-align: middle;\n",
       "    }\n",
       "\n",
       "    .dataframe tbody tr th {\n",
       "        vertical-align: top;\n",
       "    }\n",
       "\n",
       "    .dataframe thead th {\n",
       "        text-align: right;\n",
       "    }\n",
       "</style>\n",
       "<table border=\"1\" class=\"dataframe\">\n",
       "  <thead>\n",
       "    <tr style=\"text-align: right;\">\n",
       "      <th></th>\n",
       "      <th>week</th>\n",
       "      <th>UK Sales Value (GBP)</th>\n",
       "      <th>US Sales (USD) Best Case</th>\n",
       "      <th>US Sales (USD) Worst Case</th>\n",
       "      <th>US Sales Potential Variance</th>\n",
       "    </tr>\n",
       "  </thead>\n",
       "  <tbody>\n",
       "    <tr>\n",
       "      <th>0</th>\n",
       "      <td>wk 36 2019</td>\n",
       "      <td>86802.66</td>\n",
       "      <td>62847.330352</td>\n",
       "      <td>61501.475776</td>\n",
       "      <td>1345.854576</td>\n",
       "    </tr>\n",
       "    <tr>\n",
       "      <th>1</th>\n",
       "      <td>wk 37 2019</td>\n",
       "      <td>115585.36</td>\n",
       "      <td>19709.930820</td>\n",
       "      <td>19429.373628</td>\n",
       "      <td>280.557192</td>\n",
       "    </tr>\n",
       "    <tr>\n",
       "      <th>2</th>\n",
       "      <td>wk 38 2019</td>\n",
       "      <td>37249.65</td>\n",
       "      <td>32413.635270</td>\n",
       "      <td>32172.901515</td>\n",
       "      <td>240.733755</td>\n",
       "    </tr>\n",
       "    <tr>\n",
       "      <th>3</th>\n",
       "      <td>wk 39 2019</td>\n",
       "      <td>70397.46</td>\n",
       "      <td>51655.868276</td>\n",
       "      <td>50812.439660</td>\n",
       "      <td>843.428616</td>\n",
       "    </tr>\n",
       "    <tr>\n",
       "      <th>4</th>\n",
       "      <td>wk 40 2019</td>\n",
       "      <td>51559.56</td>\n",
       "      <td>28575.653184</td>\n",
       "      <td>28464.463872</td>\n",
       "      <td>111.189312</td>\n",
       "    </tr>\n",
       "  </tbody>\n",
       "</table>\n",
       "</div>"
      ],
      "text/plain": [
       "         week  UK Sales Value (GBP)  US Sales (USD) Best Case  \\\n",
       "0  wk 36 2019              86802.66              62847.330352   \n",
       "1  wk 37 2019             115585.36              19709.930820   \n",
       "2  wk 38 2019              37249.65              32413.635270   \n",
       "3  wk 39 2019              70397.46              51655.868276   \n",
       "4  wk 40 2019              51559.56              28575.653184   \n",
       "\n",
       "   US Sales (USD) Worst Case  US Sales Potential Variance  \n",
       "0               61501.475776                  1345.854576  \n",
       "1               19429.373628                   280.557192  \n",
       "2               32172.901515                   240.733755  \n",
       "3               50812.439660                   843.428616  \n",
       "4               28464.463872                   111.189312  "
      ]
     },
     "execution_count": 22,
     "metadata": {},
     "output_type": "execute_result"
    }
   ],
   "source": [
    "df.head()"
   ]
  },
  {
   "cell_type": "markdown",
   "metadata": {},
   "source": [
    "## Export"
   ]
  },
  {
   "cell_type": "code",
   "execution_count": 23,
   "metadata": {},
   "outputs": [],
   "source": [
    "df.to_csv(\".\\\\outputs\\\\2020-06_data-preppin-output.csv\", index=False)"
   ]
  }
 ],
 "metadata": {
  "kernelspec": {
   "display_name": "py3_preppin",
   "language": "python",
   "name": "py3_preppin"
  },
  "language_info": {
   "codemirror_mode": {
    "name": "ipython",
    "version": 3
   },
   "file_extension": ".py",
   "mimetype": "text/x-python",
   "name": "python",
   "nbconvert_exporter": "python",
   "pygments_lexer": "ipython3",
   "version": "3.7.5"
  },
  "toc": {
   "base_numbering": 1,
   "nav_menu": {},
   "number_sections": true,
   "sideBar": true,
   "skip_h1_title": false,
   "title_cell": "Table of Contents",
   "title_sidebar": "Contents",
   "toc_cell": false,
   "toc_position": {
    "height": "calc(100% - 180px)",
    "left": "10px",
    "top": "150px",
    "width": "165px"
   },
   "toc_section_display": true,
   "toc_window_display": true
  }
 },
 "nbformat": 4,
 "nbformat_minor": 2
}
