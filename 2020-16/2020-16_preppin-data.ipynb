{
 "cells": [
  {
   "cell_type": "markdown",
   "metadata": {},
   "source": [
    "# 2020: Week 16"
   ]
  },
  {
   "cell_type": "code",
   "execution_count": 6,
   "metadata": {},
   "outputs": [],
   "source": [
    "# Setup\n",
    "import pandas as pd"
   ]
  },
  {
   "cell_type": "code",
   "execution_count": 7,
   "metadata": {},
   "outputs": [],
   "source": [
    "# Load data\n",
    "lewis = pd.read_excel(\".\\\\inputs\\\\Can't Desktop Prep this-2.xlsx\", \"Lewisham Sales\")\n",
    "camden = pd.read_excel(\".\\\\inputs\\\\Can't Desktop Prep this-2.xlsx\", \"Camden Sales\")\n",
    "staff = pd.read_excel(\".\\\\inputs\\\\Can't Desktop Prep this-2.xlsx\", \"Staff days worked\")"
   ]
  },
  {
   "cell_type": "markdown",
   "metadata": {},
   "source": [
    "## Clean"
   ]
  },
  {
   "cell_type": "code",
   "execution_count": 8,
   "metadata": {},
   "outputs": [
    {
     "data": {
      "text/html": [
       "<div>\n",
       "<style scoped>\n",
       "    .dataframe tbody tr th:only-of-type {\n",
       "        vertical-align: middle;\n",
       "    }\n",
       "\n",
       "    .dataframe tbody tr th {\n",
       "        vertical-align: top;\n",
       "    }\n",
       "\n",
       "    .dataframe thead th {\n",
       "        text-align: right;\n",
       "    }\n",
       "</style>\n",
       "<table border=\"1\" class=\"dataframe\">\n",
       "  <thead>\n",
       "    <tr style=\"text-align: right;\">\n",
       "      <th></th>\n",
       "      <th>Month</th>\n",
       "      <th>Store</th>\n",
       "      <th>Staff days worked</th>\n",
       "    </tr>\n",
       "  </thead>\n",
       "  <tbody>\n",
       "    <tr>\n",
       "      <th>0</th>\n",
       "      <td>2020-01-01</td>\n",
       "      <td>Lewisham</td>\n",
       "      <td>200</td>\n",
       "    </tr>\n",
       "    <tr>\n",
       "      <th>1</th>\n",
       "      <td>2020-02-01</td>\n",
       "      <td>Lewisham</td>\n",
       "      <td>190</td>\n",
       "    </tr>\n",
       "    <tr>\n",
       "      <th>2</th>\n",
       "      <td>2020-03-01</td>\n",
       "      <td>Lewisham</td>\n",
       "      <td>200</td>\n",
       "    </tr>\n",
       "    <tr>\n",
       "      <th>3</th>\n",
       "      <td>2020-04-01</td>\n",
       "      <td>Lewisham</td>\n",
       "      <td>60</td>\n",
       "    </tr>\n",
       "    <tr>\n",
       "      <th>4</th>\n",
       "      <td>2020-01-01</td>\n",
       "      <td>Camden</td>\n",
       "      <td>100</td>\n",
       "    </tr>\n",
       "  </tbody>\n",
       "</table>\n",
       "</div>"
      ],
      "text/plain": [
       "       Month     Store  Staff days worked\n",
       "0 2020-01-01  Lewisham                200\n",
       "1 2020-02-01  Lewisham                190\n",
       "2 2020-03-01  Lewisham                200\n",
       "3 2020-04-01  Lewisham                 60\n",
       "4 2020-01-01    Camden                100"
      ]
     },
     "execution_count": 8,
     "metadata": {},
     "output_type": "execute_result"
    }
   ],
   "source": [
    "#clean staff data\n",
    "staff[\"Month\"] = pd.to_datetime(staff[\"Month\"], format=\"%d/%m/%Y\")\n",
    "staff = staff.melt(id_vars=[\"Month\"],\n",
    "          var_name = \"Store\",\n",
    "          value_name =\"Staff days worked\")\n",
    "\n",
    "staff.head()"
   ]
  },
  {
   "cell_type": "code",
   "execution_count": 9,
   "metadata": {},
   "outputs": [],
   "source": [
    "#create function to clean sales dataframes\n",
    "def clean_df(df):\n",
    "    df = df.melt(id_vars=[\"Category\", \"Scent\"], \n",
    "            var_name=\"Date\", \n",
    "            value_name=\"Value\")\n",
    "    df[\"Type\"] = df[\"Date\"].str.split(\" \").str[0]\n",
    "    df[\"Date\"] = df[\"Date\"].str.split(\" \").str[1]\n",
    "    df = (df.reset_index()\n",
    "          .pivot_table('Value', ['Category', 'Scent', 'Date'], 'Type')\n",
    "          .reset_index(drop=False))\n",
    "    df[\"Date\"] = pd.to_datetime(df[\"Date\"], format=\"%d/%m/%Y\")\n",
    "    del df.columns.name\n",
    "    return df"
   ]
  },
  {
   "cell_type": "code",
   "execution_count": 10,
   "metadata": {},
   "outputs": [
    {
     "data": {
      "text/html": [
       "<div>\n",
       "<style scoped>\n",
       "    .dataframe tbody tr th:only-of-type {\n",
       "        vertical-align: middle;\n",
       "    }\n",
       "\n",
       "    .dataframe tbody tr th {\n",
       "        vertical-align: top;\n",
       "    }\n",
       "\n",
       "    .dataframe thead th {\n",
       "        text-align: right;\n",
       "    }\n",
       "</style>\n",
       "<table border=\"1\" class=\"dataframe\">\n",
       "  <thead>\n",
       "    <tr style=\"text-align: right;\">\n",
       "      <th></th>\n",
       "      <th>Category</th>\n",
       "      <th>Scent</th>\n",
       "      <th>Date</th>\n",
       "      <th>Profit</th>\n",
       "      <th>Sales</th>\n",
       "      <th>Store</th>\n",
       "      <th>Staff days worked</th>\n",
       "    </tr>\n",
       "  </thead>\n",
       "  <tbody>\n",
       "    <tr>\n",
       "      <th>0</th>\n",
       "      <td>Bar</td>\n",
       "      <td>Lemon</td>\n",
       "      <td>2020-01-01</td>\n",
       "      <td>-219</td>\n",
       "      <td>4222</td>\n",
       "      <td>Lewisham</td>\n",
       "      <td>200</td>\n",
       "    </tr>\n",
       "    <tr>\n",
       "      <th>1</th>\n",
       "      <td>Bar</td>\n",
       "      <td>Lemon</td>\n",
       "      <td>2020-02-01</td>\n",
       "      <td>881</td>\n",
       "      <td>4969</td>\n",
       "      <td>Lewisham</td>\n",
       "      <td>190</td>\n",
       "    </tr>\n",
       "    <tr>\n",
       "      <th>2</th>\n",
       "      <td>Bar</td>\n",
       "      <td>Lemon</td>\n",
       "      <td>2020-03-01</td>\n",
       "      <td>-658</td>\n",
       "      <td>1530</td>\n",
       "      <td>Lewisham</td>\n",
       "      <td>200</td>\n",
       "    </tr>\n",
       "    <tr>\n",
       "      <th>3</th>\n",
       "      <td>Bar</td>\n",
       "      <td>Lemon</td>\n",
       "      <td>2020-04-01</td>\n",
       "      <td>868</td>\n",
       "      <td>1388</td>\n",
       "      <td>Lewisham</td>\n",
       "      <td>60</td>\n",
       "    </tr>\n",
       "    <tr>\n",
       "      <th>4</th>\n",
       "      <td>Bar</td>\n",
       "      <td>Mint</td>\n",
       "      <td>2020-01-01</td>\n",
       "      <td>619</td>\n",
       "      <td>4118</td>\n",
       "      <td>Lewisham</td>\n",
       "      <td>200</td>\n",
       "    </tr>\n",
       "  </tbody>\n",
       "</table>\n",
       "</div>"
      ],
      "text/plain": [
       "  Category  Scent       Date  Profit  Sales     Store  Staff days worked\n",
       "0      Bar  Lemon 2020-01-01    -219   4222  Lewisham                200\n",
       "1      Bar  Lemon 2020-02-01     881   4969  Lewisham                190\n",
       "2      Bar  Lemon 2020-03-01    -658   1530  Lewisham                200\n",
       "3      Bar  Lemon 2020-04-01     868   1388  Lewisham                 60\n",
       "4      Bar   Mint 2020-01-01     619   4118  Lewisham                200"
      ]
     },
     "execution_count": 10,
     "metadata": {},
     "output_type": "execute_result"
    }
   ],
   "source": [
    "# Clean sales dataframes\n",
    "lewis = clean_df(lewis)\n",
    "lewis[\"Store\"] = 'Lewisham'\n",
    "\n",
    "camden = clean_df(camden)\n",
    "camden[\"Store\"] = 'Camden'\n",
    "\n",
    "#join all data frames\n",
    "df = pd.concat([lewis, camden])\n",
    "df = pd.merge(df, staff, left_on = [\"Date\", \"Store\"], right_on=[\"Month\", \"Store\"], how='left').drop(\"Month\", axis=1)\n",
    "df.head()"
   ]
  },
  {
   "cell_type": "markdown",
   "metadata": {},
   "source": [
    "## Export"
   ]
  },
  {
   "cell_type": "code",
   "execution_count": 14,
   "metadata": {},
   "outputs": [],
   "source": [
    "df.to_csv(\".\\\\outputs\\\\2020-16_data-preppin-output.csv\", index=False)"
   ]
  }
 ],
 "metadata": {
  "kernelspec": {
   "display_name": "py3_preppin",
   "language": "python",
   "name": "py3_preppin"
  },
  "language_info": {
   "codemirror_mode": {
    "name": "ipython",
    "version": 3
   },
   "file_extension": ".py",
   "mimetype": "text/x-python",
   "name": "python",
   "nbconvert_exporter": "python",
   "pygments_lexer": "ipython3",
   "version": "3.7.5"
  },
  "toc": {
   "base_numbering": 1,
   "nav_menu": {},
   "number_sections": true,
   "sideBar": true,
   "skip_h1_title": false,
   "title_cell": "Table of Contents",
   "title_sidebar": "Contents",
   "toc_cell": false,
   "toc_position": {
    "height": "calc(100% - 180px)",
    "left": "10px",
    "top": "150px",
    "width": "165px"
   },
   "toc_section_display": true,
   "toc_window_display": true
  }
 },
 "nbformat": 4,
 "nbformat_minor": 2
}
