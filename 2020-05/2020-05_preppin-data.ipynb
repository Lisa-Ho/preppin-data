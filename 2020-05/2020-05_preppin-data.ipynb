{
 "cells": [
  {
   "cell_type": "markdown",
   "metadata": {},
   "source": [
    "# 2020: Week 5"
   ]
  },
  {
   "cell_type": "code",
   "execution_count": 1,
   "metadata": {},
   "outputs": [],
   "source": [
    "# Setup\n",
    "import pandas as pd"
   ]
  },
  {
   "cell_type": "code",
   "execution_count": 2,
   "metadata": {},
   "outputs": [],
   "source": [
    "# Load data\n",
    "df = pd.read_csv(\".\\\\inputs\\\\PD 2020 Wk 5 Input.csv\")"
   ]
  },
  {
   "cell_type": "markdown",
   "metadata": {},
   "source": [
    "## Explore "
   ]
  },
  {
   "cell_type": "code",
   "execution_count": 3,
   "metadata": {},
   "outputs": [
    {
     "name": "stdout",
     "output_type": "stream",
     "text": [
      "(105, 10)\n",
      "      Team Result  For  Aga  Diff HTf HTa Opposition             Venue  \\\n",
      "0  England    won   35    8    27  22   0   v France  Parc des Princes   \n",
      "1  England    won   41   13    28  13  13   v France          Richmond   \n",
      "2  England    won   19    0    19   6   0   v France          Colombes   \n",
      "3  England    won   22    0    22  10   0   v France         Leicester   \n",
      "4  England    won   11    3     8   8   0   v France  Parc des Princes   \n",
      "\n",
      "        Date  \n",
      "0  22/3/1906  \n",
      "1   5/1/1907  \n",
      "2   1/1/1908  \n",
      "3  30/1/1909  \n",
      "4   3/3/1910  \n"
     ]
    }
   ],
   "source": [
    "print(df.shape)\n",
    "print(df.head())"
   ]
  },
  {
   "cell_type": "markdown",
   "metadata": {},
   "source": [
    "## Clean"
   ]
  },
  {
   "cell_type": "code",
   "execution_count": 69,
   "metadata": {},
   "outputs": [],
   "source": [
    "# drop games with null scores at half time\n",
    "df.loc[(df[\"HTf\"]== '0') & (df[\"HTa\"]=='0'), \"filter\"] = 1\n",
    "df.loc[(df[\"HTf\"]== '-') & (df[\"HTa\"]=='-'), \"filter\"] = 1\n",
    "df = df.loc[df[\"filter\"] != 1].drop(\"filter\", axis=1)\n",
    "\n",
    "# Create rank column\n",
    "df[\"rank\"] = df[\"Diff\"].rank(method='min', ascending=False)"
   ]
  },
  {
   "cell_type": "code",
   "execution_count": 93,
   "metadata": {},
   "outputs": [
    {
     "data": {
      "text/html": [
       "<div>\n",
       "<style scoped>\n",
       "    .dataframe tbody tr th:only-of-type {\n",
       "        vertical-align: middle;\n",
       "    }\n",
       "\n",
       "    .dataframe tbody tr th {\n",
       "        vertical-align: top;\n",
       "    }\n",
       "\n",
       "    .dataframe thead th {\n",
       "        text-align: right;\n",
       "    }\n",
       "</style>\n",
       "<table border=\"1\" class=\"dataframe\">\n",
       "  <thead>\n",
       "    <tr style=\"text-align: right;\">\n",
       "      <th></th>\n",
       "      <th>Venue</th>\n",
       "      <th>Number of Games</th>\n",
       "      <th>Best Rank (Standard Competition)</th>\n",
       "      <th>Worst Rank (Standard Competition)</th>\n",
       "      <th>Avg. Rank (Standard Competition)</th>\n",
       "    </tr>\n",
       "  </thead>\n",
       "  <tbody>\n",
       "    <tr>\n",
       "      <th>0</th>\n",
       "      <td>Auckland</td>\n",
       "      <td>1</td>\n",
       "      <td>86.0</td>\n",
       "      <td>86.0</td>\n",
       "      <td>86.00000</td>\n",
       "    </tr>\n",
       "    <tr>\n",
       "      <th>1</th>\n",
       "      <td>Colombes</td>\n",
       "      <td>21</td>\n",
       "      <td>7.0</td>\n",
       "      <td>102.0</td>\n",
       "      <td>61.52381</td>\n",
       "    </tr>\n",
       "    <tr>\n",
       "      <th>2</th>\n",
       "      <td>Leicester</td>\n",
       "      <td>1</td>\n",
       "      <td>9.0</td>\n",
       "      <td>9.0</td>\n",
       "      <td>9.00000</td>\n",
       "    </tr>\n",
       "    <tr>\n",
       "      <th>3</th>\n",
       "      <td>Marseille</td>\n",
       "      <td>2</td>\n",
       "      <td>65.0</td>\n",
       "      <td>94.0</td>\n",
       "      <td>79.50000</td>\n",
       "    </tr>\n",
       "    <tr>\n",
       "      <th>4</th>\n",
       "      <td>Parc des Princes</td>\n",
       "      <td>16</td>\n",
       "      <td>6.0</td>\n",
       "      <td>100.0</td>\n",
       "      <td>50.87500</td>\n",
       "    </tr>\n",
       "    <tr>\n",
       "      <th>5</th>\n",
       "      <td>Pretoria</td>\n",
       "      <td>1</td>\n",
       "      <td>93.0</td>\n",
       "      <td>93.0</td>\n",
       "      <td>93.00000</td>\n",
       "    </tr>\n",
       "    <tr>\n",
       "      <th>6</th>\n",
       "      <td>Richmond</td>\n",
       "      <td>1</td>\n",
       "      <td>5.0</td>\n",
       "      <td>5.0</td>\n",
       "      <td>5.00000</td>\n",
       "    </tr>\n",
       "    <tr>\n",
       "      <th>7</th>\n",
       "      <td>Stade de France</td>\n",
       "      <td>13</td>\n",
       "      <td>21.0</td>\n",
       "      <td>102.0</td>\n",
       "      <td>63.00000</td>\n",
       "    </tr>\n",
       "    <tr>\n",
       "      <th>8</th>\n",
       "      <td>Sydney</td>\n",
       "      <td>1</td>\n",
       "      <td>16.0</td>\n",
       "      <td>16.0</td>\n",
       "      <td>16.00000</td>\n",
       "    </tr>\n",
       "    <tr>\n",
       "      <th>9</th>\n",
       "      <td>Twickenham</td>\n",
       "      <td>46</td>\n",
       "      <td>1.0</td>\n",
       "      <td>90.0</td>\n",
       "      <td>42.23913</td>\n",
       "    </tr>\n",
       "  </tbody>\n",
       "</table>\n",
       "</div>"
      ],
      "text/plain": [
       "              Venue  Number of Games  Best Rank (Standard Competition)  \\\n",
       "0          Auckland                1                              86.0   \n",
       "1          Colombes               21                               7.0   \n",
       "2         Leicester                1                               9.0   \n",
       "3         Marseille                2                              65.0   \n",
       "4  Parc des Princes               16                               6.0   \n",
       "5          Pretoria                1                              93.0   \n",
       "6          Richmond                1                               5.0   \n",
       "7   Stade de France               13                              21.0   \n",
       "8            Sydney                1                              16.0   \n",
       "9        Twickenham               46                               1.0   \n",
       "\n",
       "   Worst Rank (Standard Competition)  Avg. Rank (Standard Competition)  \n",
       "0                               86.0                          86.00000  \n",
       "1                              102.0                          61.52381  \n",
       "2                                9.0                           9.00000  \n",
       "3                               94.0                          79.50000  \n",
       "4                              100.0                          50.87500  \n",
       "5                               93.0                          93.00000  \n",
       "6                                5.0                           5.00000  \n",
       "7                              102.0                          63.00000  \n",
       "8                               16.0                          16.00000  \n",
       "9                               90.0                          42.23913  "
      ]
     },
     "execution_count": 93,
     "metadata": {},
     "output_type": "execute_result"
    }
   ],
   "source": [
    "# create crosstab\n",
    "a = df.groupby(['Venue']).agg( {\"rank\" :[\"count\", \"min\", \"max\", \"mean\"]})\n",
    "\n",
    "#drop multilevel index\n",
    "a.columns = a.columns.droplevel()\n",
    "\n",
    "#prep dataframe for export\n",
    "a = a.reset_index().rename(columns={\"count\": \"Number of Games\", \n",
    "                                   \"min\": \"Best Rank (Standard Competition)\",\n",
    "                                   \"max\": \"Worst Rank (Standard Competition)\",\n",
    "                                   \"mean\": \"Avg. Rank (Standard Competition)\"})"
   ]
  },
  {
   "cell_type": "markdown",
   "metadata": {},
   "source": [
    "## Export"
   ]
  },
  {
   "cell_type": "code",
   "execution_count": 94,
   "metadata": {},
   "outputs": [],
   "source": [
    "a.to_csv(\".\\\\outputs\\\\20200 Week 5 Output.csv\", index=False)"
   ]
  }
 ],
 "metadata": {
  "kernelspec": {
   "display_name": "py3_preppin",
   "language": "python",
   "name": "py3_preppin"
  },
  "language_info": {
   "codemirror_mode": {
    "name": "ipython",
    "version": 3
   },
   "file_extension": ".py",
   "mimetype": "text/x-python",
   "name": "python",
   "nbconvert_exporter": "python",
   "pygments_lexer": "ipython3",
   "version": "3.7.5"
  },
  "toc": {
   "base_numbering": 1,
   "nav_menu": {},
   "number_sections": true,
   "sideBar": true,
   "skip_h1_title": false,
   "title_cell": "Table of Contents",
   "title_sidebar": "Contents",
   "toc_cell": false,
   "toc_position": {
    "height": "calc(100% - 180px)",
    "left": "10px",
    "top": "150px",
    "width": "384.4px"
   },
   "toc_section_display": true,
   "toc_window_display": true
  }
 },
 "nbformat": 4,
 "nbformat_minor": 2
}
