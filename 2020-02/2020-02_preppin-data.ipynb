{
 "cells": [
  {
   "cell_type": "markdown",
   "metadata": {},
   "source": [
    "# 2020: Week 2"
   ]
  },
  {
   "cell_type": "code",
   "execution_count": 7,
   "metadata": {},
   "outputs": [],
   "source": [
    "# Setup\n",
    "import pandas as pd\n",
    "import numpy as np\n",
    "import re\n",
    "from datetime import datetime"
   ]
  },
  {
   "cell_type": "code",
   "execution_count": 2,
   "metadata": {},
   "outputs": [],
   "source": [
    "# Load data\n",
    "df = pd.read_csv(\".\\\\inputs\\PD 2020 Wk 2 Input - Time Inputs.csv\")"
   ]
  },
  {
   "cell_type": "markdown",
   "metadata": {},
   "source": [
    "## Explore "
   ]
  },
  {
   "cell_type": "code",
   "execution_count": 4,
   "metadata": {},
   "outputs": [
    {
     "name": "stdout",
     "output_type": "stream",
     "text": [
      "(50, 2)\n",
      "     Date   Time\n",
      "0  1/1/19  01:45\n",
      "1  1/1/19  08:17\n",
      "2  1/1/19  08:36\n",
      "3  1/1/19  10:18\n",
      "4  1/1/19  11:52\n"
     ]
    }
   ],
   "source": [
    "print(df.shape)\n",
    "print(df.head())"
   ]
  },
  {
   "cell_type": "markdown",
   "metadata": {},
   "source": [
    "## Clean"
   ]
  },
  {
   "cell_type": "code",
   "execution_count": 5,
   "metadata": {},
   "outputs": [],
   "source": [
    "# create clean time and date column\n",
    "x = []\n",
    "y = []\n",
    "\n",
    "for i in range(len(df[\"Time\"])):\n",
    "    s = \"\".join(re.findall(r'\\d+', df[\"Time\"][i]))  #find all digits\n",
    "    s = '%04d' % int(s) # standardise format to four digits adding a 0 at the front if needed\n",
    "    t = '%02d/' % int(df[\"Date\"][i][0:1]) + '%02d/' % int(df[\"Date\"][i][2:3]) + \"20\" + '%2d' % int(df[\"Date\"][i][4:6])\n",
    "    y.append(t)\n",
    "    x.append(s)\n",
    "    \n",
    "df[\"Time_clean\"] = x\n",
    "df[\"Date_clean\"] = y"
   ]
  },
  {
   "cell_type": "code",
   "execution_count": 8,
   "metadata": {},
   "outputs": [],
   "source": [
    "# check if is AM or PM\n",
    "def get_ampm(x, var1, var2):\n",
    "    if any(substring in x[var1] for substring in [\"PM\", \"pm\", \"p\"]):\n",
    "        x[var2]=\"pm\"\n",
    "    elif any(substring in x[var1] for substring in [\"AM\", \"am\", \"a\"]):\n",
    "        x[var2]=\"am\"\n",
    "    else:\n",
    "        x[var2]=np.nan\n",
    "    return x\n",
    "\n",
    "df = df.apply(lambda x: get_ampm(x, 'Time', 'AM-PM'), axis=1)"
   ]
  },
  {
   "cell_type": "code",
   "execution_count": 9,
   "metadata": {},
   "outputs": [],
   "source": [
    "# change time if PM\n",
    "df[\"Hour\"] = None\n",
    "df[\"Minute\"]=None\n",
    "\n",
    "for i in range(len(df[\"Time_clean\"])):\n",
    "    if df[\"AM-PM\"][i] == \"pm\":\n",
    "        df[\"Hour\"][i] = int(df[\"Time_clean\"][i][:2])+12\n",
    "        df[\"Minute\"][i] = int(df[\"Time_clean\"][i][2:4])\n",
    "    else:\n",
    "        df[\"Hour\"][i] = int(df[\"Time_clean\"][i][:2])\n",
    "        df[\"Minute\"][i] = int(df[\"Time_clean\"][i][2:4])\n",
    "\n",
    "        \n",
    "df[\"Month\"] = None\n",
    "df[\"Day\"] = None\n",
    "df[\"Year\"] = None     \n",
    "\n",
    "for i in range(len(df[\"Date_clean\"])):\n",
    "    df[\"Month\"][i] = int(df[\"Date_clean\"][i][:2])\n",
    "    df[\"Day\"][i] = int(df[\"Date_clean\"][i][3:5])\n",
    "    df[\"Year\"][i] = int(df[\"Date_clean\"][i][6:10])"
   ]
  },
  {
   "cell_type": "code",
   "execution_count": 10,
   "metadata": {},
   "outputs": [
    {
     "data": {
      "text/html": [
       "<div>\n",
       "<style scoped>\n",
       "    .dataframe tbody tr th:only-of-type {\n",
       "        vertical-align: middle;\n",
       "    }\n",
       "\n",
       "    .dataframe tbody tr th {\n",
       "        vertical-align: top;\n",
       "    }\n",
       "\n",
       "    .dataframe thead th {\n",
       "        text-align: right;\n",
       "    }\n",
       "</style>\n",
       "<table border=\"1\" class=\"dataframe\">\n",
       "  <thead>\n",
       "    <tr style=\"text-align: right;\">\n",
       "      <th></th>\n",
       "      <th>Date</th>\n",
       "      <th>Time</th>\n",
       "      <th>Time_clean</th>\n",
       "      <th>Date_clean</th>\n",
       "      <th>AM-PM</th>\n",
       "      <th>Hour</th>\n",
       "      <th>Minute</th>\n",
       "      <th>Month</th>\n",
       "      <th>Day</th>\n",
       "      <th>Year</th>\n",
       "      <th>Date_time</th>\n",
       "    </tr>\n",
       "  </thead>\n",
       "  <tbody>\n",
       "    <tr>\n",
       "      <th>0</th>\n",
       "      <td>1/1/19</td>\n",
       "      <td>01:45</td>\n",
       "      <td>0145</td>\n",
       "      <td>01/01/2019</td>\n",
       "      <td>NaN</td>\n",
       "      <td>1</td>\n",
       "      <td>45</td>\n",
       "      <td>1</td>\n",
       "      <td>1</td>\n",
       "      <td>2019</td>\n",
       "      <td>2019-01-01 01:45:00</td>\n",
       "    </tr>\n",
       "    <tr>\n",
       "      <th>1</th>\n",
       "      <td>1/1/19</td>\n",
       "      <td>08:17</td>\n",
       "      <td>0817</td>\n",
       "      <td>01/01/2019</td>\n",
       "      <td>NaN</td>\n",
       "      <td>8</td>\n",
       "      <td>17</td>\n",
       "      <td>1</td>\n",
       "      <td>1</td>\n",
       "      <td>2019</td>\n",
       "      <td>2019-01-01 08:17:00</td>\n",
       "    </tr>\n",
       "    <tr>\n",
       "      <th>2</th>\n",
       "      <td>1/1/19</td>\n",
       "      <td>08:36</td>\n",
       "      <td>0836</td>\n",
       "      <td>01/01/2019</td>\n",
       "      <td>NaN</td>\n",
       "      <td>8</td>\n",
       "      <td>36</td>\n",
       "      <td>1</td>\n",
       "      <td>1</td>\n",
       "      <td>2019</td>\n",
       "      <td>2019-01-01 08:36:00</td>\n",
       "    </tr>\n",
       "    <tr>\n",
       "      <th>3</th>\n",
       "      <td>1/1/19</td>\n",
       "      <td>10:18</td>\n",
       "      <td>1018</td>\n",
       "      <td>01/01/2019</td>\n",
       "      <td>NaN</td>\n",
       "      <td>10</td>\n",
       "      <td>18</td>\n",
       "      <td>1</td>\n",
       "      <td>1</td>\n",
       "      <td>2019</td>\n",
       "      <td>2019-01-01 10:18:00</td>\n",
       "    </tr>\n",
       "    <tr>\n",
       "      <th>4</th>\n",
       "      <td>1/1/19</td>\n",
       "      <td>11:52</td>\n",
       "      <td>1152</td>\n",
       "      <td>01/01/2019</td>\n",
       "      <td>NaN</td>\n",
       "      <td>11</td>\n",
       "      <td>52</td>\n",
       "      <td>1</td>\n",
       "      <td>1</td>\n",
       "      <td>2019</td>\n",
       "      <td>2019-01-01 11:52:00</td>\n",
       "    </tr>\n",
       "  </tbody>\n",
       "</table>\n",
       "</div>"
      ],
      "text/plain": [
       "     Date   Time Time_clean  Date_clean AM-PM Hour Minute Month Day  Year  \\\n",
       "0  1/1/19  01:45       0145  01/01/2019   NaN    1     45     1   1  2019   \n",
       "1  1/1/19  08:17       0817  01/01/2019   NaN    8     17     1   1  2019   \n",
       "2  1/1/19  08:36       0836  01/01/2019   NaN    8     36     1   1  2019   \n",
       "3  1/1/19  10:18       1018  01/01/2019   NaN   10     18     1   1  2019   \n",
       "4  1/1/19  11:52       1152  01/01/2019   NaN   11     52     1   1  2019   \n",
       "\n",
       "            Date_time  \n",
       "0 2019-01-01 01:45:00  \n",
       "1 2019-01-01 08:17:00  \n",
       "2 2019-01-01 08:36:00  \n",
       "3 2019-01-01 10:18:00  \n",
       "4 2019-01-01 11:52:00  "
      ]
     },
     "execution_count": 10,
     "metadata": {},
     "output_type": "execute_result"
    }
   ],
   "source": [
    "# create final date time\n",
    "df[\"Date_time\"] = pd.to_datetime(df[['Year', 'Month', 'Day', 'Hour', \"Minute\"]])\n",
    "df.head()"
   ]
  },
  {
   "cell_type": "markdown",
   "metadata": {},
   "source": [
    "## Export"
   ]
  },
  {
   "cell_type": "code",
   "execution_count": 13,
   "metadata": {},
   "outputs": [],
   "source": [
    "df[[\"Date\", \"Time\", \"Date_time\"]].to_csv(\".\\\\outputs\\\\2020-02_preppin-data-output.csv\", index=False)"
   ]
  }
 ],
 "metadata": {
  "kernelspec": {
   "display_name": "py3_preppin",
   "language": "python",
   "name": "py3_preppin"
  },
  "language_info": {
   "codemirror_mode": {
    "name": "ipython",
    "version": 3
   },
   "file_extension": ".py",
   "mimetype": "text/x-python",
   "name": "python",
   "nbconvert_exporter": "python",
   "pygments_lexer": "ipython3",
   "version": "3.7.5"
  },
  "toc": {
   "base_numbering": 1,
   "nav_menu": {},
   "number_sections": true,
   "sideBar": true,
   "skip_h1_title": false,
   "title_cell": "Table of Contents",
   "title_sidebar": "Contents",
   "toc_cell": false,
   "toc_position": {
    "height": "calc(100% - 180px)",
    "left": "10px",
    "top": "150px",
    "width": "384.4px"
   },
   "toc_section_display": true,
   "toc_window_display": true
  }
 },
 "nbformat": 4,
 "nbformat_minor": 2
}
