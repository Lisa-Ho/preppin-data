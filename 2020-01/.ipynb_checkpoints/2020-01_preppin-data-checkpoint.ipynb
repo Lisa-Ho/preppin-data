{
 "cells": [
  {
   "cell_type": "markdown",
   "metadata": {},
   "source": [
    "# 2020: Week 1"
   ]
  },
  {
   "cell_type": "code",
   "execution_count": 4,
   "metadata": {},
   "outputs": [],
   "source": [
    "# Setup\n",
    "import pandas as pd"
   ]
  },
  {
   "cell_type": "code",
   "execution_count": 18,
   "metadata": {},
   "outputs": [],
   "source": [
    "# Load data\n",
    "df = pd.read_csv(\".\\\\inputs\\\\PD 2020 WK 1 Input - Sheet1.csv\")"
   ]
  },
  {
   "cell_type": "markdown",
   "metadata": {},
   "source": [
    "## Explore "
   ]
  },
  {
   "cell_type": "code",
   "execution_count": 9,
   "metadata": {},
   "outputs": [
    {
     "name": "stdout",
     "output_type": "stream",
     "text": [
      "(31, 2)\n",
      "             Item   Profit\n",
      "0     1. Bar Soap      NaN\n",
      "1      1.1 Opaque      NaN\n",
      "2  1.1.1 Lavender  10778.0\n",
      "3     1.1.2 Honey  -6103.0\n",
      "4    1.1.3 Orange   5422.0\n"
     ]
    }
   ],
   "source": [
    "print(df.shape)\n",
    "print(df.head())"
   ]
  },
  {
   "cell_type": "markdown",
   "metadata": {},
   "source": [
    "## Clean, reshape, aggregate"
   ]
  },
  {
   "cell_type": "code",
   "execution_count": 21,
   "metadata": {},
   "outputs": [
    {
     "name": "stdout",
     "output_type": "stream",
     "text": [
      "              Item   Profit  Level Parent Child\n",
      "0      1. Bar Soap  21744.0      1    NaN     1\n",
      "1       1.1 Opaque  16398.0      2      1   1.1\n",
      "2   1.1.1 Lavender  10778.0      3    1.1   NaN\n",
      "3      1.1.2 Honey  -6103.0      3    1.1   NaN\n",
      "4     1.1.3 Orange   5422.0      3    1.1   NaN\n",
      "5       1.1.4 Mint   6301.0      3    1.1   NaN\n",
      "6  1.2 Transparent   5346.0      2      1   1.2\n",
      "7   1.2.1 Lavender  10769.0      3    1.2   NaN\n",
      "8      1.2.2 Honey   -270.0      3    1.2   NaN\n",
      "9     1.2.3 Orange  -4981.0      3    1.2   NaN\n"
     ]
    }
   ],
   "source": [
    "#create hierarchy level\n",
    "level = []\n",
    "\n",
    "for i in df[\"Item\"]:\n",
    "    a = sum(c.isdigit() for c in i)\n",
    "    level.append(a)\n",
    "    #cat.append(b)\n",
    "    \n",
    "df[\"Level\"] = level\n",
    "\n",
    "#create parent category\n",
    "df[\"Parent\"] = np.nan\n",
    "df.loc[df[\"Level\"]== 2, \"Parent\"] = df[\"Item\"].str[0]\n",
    "df.loc[df[\"Level\"]== 3, \"Parent\"] = df[\"Item\"].str[0:3]\n",
    "\n",
    "#create child\n",
    "df[\"Child\"] = np.nan\n",
    "df.loc[df[\"Level\"]== 1, \"Child\"] = df[\"Item\"].str[0]\n",
    "df.loc[df[\"Level\"]== 2, \"Child\"] = df[\"Item\"].str[0:3]\n",
    "\n",
    "#create parent category profit by aggregating children profit\n",
    "cat = [ \"1.1\", \"1.2\",  \"2.1\", \"2.2\",  \"3.1\", \"3.2\", \"1\", \"2\", \"3\"]\n",
    "\n",
    "for i in cat:\n",
    "    df.loc[df[\"Child\"] == i, \"Profit\"] = df.loc[df[\"Parent\"] == i, \"Profit\"].sum()\n",
    "\n",
    "print(df.head(10))"
   ]
  },
  {
   "cell_type": "markdown",
   "metadata": {},
   "source": [
    "##  Export"
   ]
  },
  {
   "cell_type": "code",
   "execution_count": 22,
   "metadata": {},
   "outputs": [],
   "source": [
    "df = df.drop([\"Level\", \"Parent\", \"Child\"], axis =1)\n",
    "df.to_csv(\".\\\\outputs\\\\2020-01_preppin-data-output.csv\", index=False)"
   ]
  }
 ],
 "metadata": {
  "kernelspec": {
   "display_name": "py3_preppin",
   "language": "python",
   "name": "py3_preppin"
  },
  "language_info": {
   "codemirror_mode": {
    "name": "ipython",
    "version": 3
   },
   "file_extension": ".py",
   "mimetype": "text/x-python",
   "name": "python",
   "nbconvert_exporter": "python",
   "pygments_lexer": "ipython3",
   "version": "3.7.5"
  },
  "toc": {
   "base_numbering": 1,
   "nav_menu": {},
   "number_sections": true,
   "sideBar": true,
   "skip_h1_title": false,
   "title_cell": "Table of Contents",
   "title_sidebar": "Contents",
   "toc_cell": false,
   "toc_position": {},
   "toc_section_display": true,
   "toc_window_display": false
  }
 },
 "nbformat": 4,
 "nbformat_minor": 2
}
