{
 "cells": [
  {
   "cell_type": "markdown",
   "metadata": {},
   "source": [
    "# 2020: Week 15\n",
    "\n",
    "This week is all about [market basket analysis](https://preppindata.blogspot.com/2020/04/2020-week-15.html), something I haven't done before. \n",
    "\n",
    "Task: Calculate three key metrics - support, confidence, and lift. These metrics are calculated for individual items and for association rules between items."
   ]
  },
  {
   "cell_type": "code",
   "execution_count": 2,
   "metadata": {},
   "outputs": [],
   "source": [
    "## Setup\n",
    "import pandas as pd"
   ]
  },
  {
   "cell_type": "markdown",
   "metadata": {},
   "source": [
    "## Load, clean and calculate"
   ]
  },
  {
   "cell_type": "code",
   "execution_count": 3,
   "metadata": {},
   "outputs": [
    {
     "name": "stdout",
     "output_type": "stream",
     "text": [
      "raw data\n",
      "  TransactionID                                 Items\n",
      "0          x001                  razors, shaving soap\n",
      "1          x002                moisturiser, hand soap\n",
      "2          x003     bath bomb, hand soap, moisturiser\n",
      "3          x004  hand soap, moisturiser, shaving soap\n",
      "4          x005                   razors, moisturiser\n",
      "\n",
      "unique items\n",
      "['razors', 'hand soap', 'moisturiser', 'bath bomb', 'shaving soap']\n",
      "\n",
      "support and appearance of each item\n",
      "          Items  Appearance  Support\n",
      "0   moisturiser           4      0.8\n",
      "1     hand soap           3      0.6\n",
      "2  shaving soap           2      0.4\n",
      "3        razors           2      0.4\n",
      "4     bath bomb           1      0.2\n",
      "\n",
      "               AssociationRule       LHSItem       RHSItem  LHS Appearance  \\\n",
      "0         razors > moisturiser        razors   moisturiser               2   \n",
      "1        razors > shaving soap        razors  shaving soap               2   \n",
      "2      hand soap > moisturiser     hand soap   moisturiser               3   \n",
      "3        hand soap > bath bomb     hand soap     bath bomb               3   \n",
      "4     hand soap > shaving soap     hand soap  shaving soap               3   \n",
      "5         moisturiser > razors   moisturiser        razors               4   \n",
      "6      moisturiser > hand soap   moisturiser     hand soap               4   \n",
      "7      moisturiser > bath bomb   moisturiser     bath bomb               4   \n",
      "8   moisturiser > shaving soap   moisturiser  shaving soap               4   \n",
      "9        bath bomb > hand soap     bath bomb     hand soap               1   \n",
      "10     bath bomb > moisturiser     bath bomb   moisturiser               1   \n",
      "11       shaving soap > razors  shaving soap        razors               2   \n",
      "12    shaving soap > hand soap  shaving soap     hand soap               2   \n",
      "13  shaving soap > moisturiser  shaving soap   moisturiser               2   \n",
      "\n",
      "    LHS Support  RHS Support  Set Appearance  Confidence      lift  \n",
      "0           0.4          0.8               1    0.500000  0.625000  \n",
      "1           0.4          0.4               1    0.500000  1.250000  \n",
      "2           0.6          0.8               3    1.000000  1.250000  \n",
      "3           0.6          0.2               1    0.333333  1.666667  \n",
      "4           0.6          0.4               1    0.333333  0.833333  \n",
      "5           0.8          0.4               1    0.250000  0.625000  \n",
      "6           0.8          0.6               3    0.750000  1.250000  \n",
      "7           0.8          0.2               1    0.250000  1.250000  \n",
      "8           0.8          0.4               1    0.250000  0.625000  \n",
      "9           0.2          0.6               1    1.000000  1.666667  \n",
      "10          0.2          0.8               1    1.000000  1.250000  \n",
      "11          0.4          0.4               1    0.500000  1.250000  \n",
      "12          0.4          0.6               1    0.500000  0.833333  \n",
      "13          0.4          0.8               1    0.500000  0.625000  \n"
     ]
    }
   ],
   "source": [
    "# Load data\n",
    "df = pd.read_excel(\".\\\\inputs\\\\Transactions.xlsx\")\n",
    "print(\"raw data\")\n",
    "print(df)\n",
    "print(\"\")\n",
    "\n",
    "#get unique list of items\n",
    "items = ', '.join(map(str, df[\"Items\"])).split(\", \")\n",
    "items = list (set (items))\n",
    "print(\"unique items\")\n",
    "print(items)\n",
    "print(\"\")\n",
    "\n",
    "#create individual rows\n",
    "individual = df.copy()\n",
    "individual[\"Items\"] = individual[\"Items\"].str.split(\", \")\n",
    "tags = individual.apply(lambda x: pd.Series(x['Items']),axis=1).rename(columns={0:\"item_1\", 1:\"item_2\", 2:\"item_3\"})\n",
    "individual = pd.merge(individual, tags, left_index = True, right_index= True).drop(\"Items\", axis=1)\n",
    "individual = individual.melt(id_vars=[\"TransactionID\"],value_name=\"Item\").drop(\"variable\", axis=1).dropna()\n",
    "individual = individual.sort_values(\"TransactionID\").reset_index(drop=True)\n",
    "\n",
    "#total appearances and support\n",
    "support = pd.DataFrame(individual[\"Item\"].value_counts())\n",
    "support = support.reset_index().rename(columns={\"index\":\"Items\",\"Item\":\"Appearance\"})\n",
    "support[\"Support\"] = support[\"Appearance\"] / df[\"TransactionID\"].nunique()\n",
    "print(\"support and appearance of each item\")\n",
    "print(support)\n",
    "print(\"\")\n",
    "\n",
    "#get combinations of items\n",
    "s=[]\n",
    "for i in range(len(items)):\n",
    "    for b in range(len(items)):\n",
    "        x = items[i] + \" > \" + items[b]\n",
    "        s.append(x)\n",
    "results = pd.DataFrame(s, columns=[\"AssociationRule\"])\n",
    "results = results.loc[results[\"AssociationRule\"].str.split(\" > \").str[0] != results[\"AssociationRule\"].str.split(\" > \").str[1]]\n",
    "results = results.reset_index(drop=True)\n",
    "results[\"LHSItem\"] = results[\"AssociationRule\"].str.split(\" > \").str[0]\n",
    "results[\"RHSItem\"] = results[\"AssociationRule\"].str.split(\" > \").str[1]\n",
    "\n",
    "#merge with support data\n",
    "results = pd.merge(results, support, left_on=\"LHSItem\", right_on=\"Items\", how=\"left\").drop([\"Items\"], axis=1).rename(columns={\"Support\":\"LHS Support\", \"Appearance\":\"LHS Appearance\"})\n",
    "results = pd.merge(results, support, left_on=\"RHSItem\", right_on=\"Items\", how=\"left\").drop([\"Items\", \"Appearance\"], axis=1).rename(columns={\"Support\":\"RHS Support\"})\n",
    "\n",
    "#calculate set appearance \n",
    "results[\"Set Appearance\"] = [df.loc[(df[\"Items\"].str.contains(results[\"LHSItem\"][i])) & \n",
    "           (df[\"Items\"].str.contains(results[\"RHSItem\"][i])) ,\n",
    "            \"TransactionID\" ].count() for i in range(len(results))]\n",
    "\n",
    "#remove sets with no appearance\n",
    "results = results.loc[results[\"Set Appearance\"] > 0].reset_index(drop=True)\n",
    "\n",
    "#calculate confidence\n",
    "results[\"Confidence\"] = results[\"Set Appearance\"] / results[\"LHS Appearance\"]\n",
    "\n",
    "#calculate lift\n",
    "results[\"lift\"] = (results[\"Set Appearance\"] / df[\"TransactionID\"].nunique()) / (results[\"LHS Support\"] * results[\"RHS Support\"])\n",
    "\n",
    "print(results)"
   ]
  },
  {
   "cell_type": "markdown",
   "metadata": {},
   "source": [
    "## Export"
   ]
  },
  {
   "cell_type": "code",
   "execution_count": 4,
   "metadata": {},
   "outputs": [],
   "source": [
    "results.drop([\"LHS Appearance\", \"Set Appearance\"], axis=1).to_csv(\".\\\\outputs\\\\2020-15_data-preppin-output.csv\", index=False)"
   ]
  }
 ],
 "metadata": {
  "kernelspec": {
   "display_name": "py3_preppin",
   "language": "python",
   "name": "py3_preppin"
  },
  "language_info": {
   "codemirror_mode": {
    "name": "ipython",
    "version": 3
   },
   "file_extension": ".py",
   "mimetype": "text/x-python",
   "name": "python",
   "nbconvert_exporter": "python",
   "pygments_lexer": "ipython3",
   "version": "3.7.5"
  },
  "toc": {
   "base_numbering": 1,
   "nav_menu": {},
   "number_sections": true,
   "sideBar": true,
   "skip_h1_title": false,
   "title_cell": "Table of Contents",
   "title_sidebar": "Contents",
   "toc_cell": false,
   "toc_position": {
    "height": "calc(100% - 180px)",
    "left": "10px",
    "top": "150px",
    "width": "165px"
   },
   "toc_section_display": true,
   "toc_window_display": true
  }
 },
 "nbformat": 4,
 "nbformat_minor": 2
}
